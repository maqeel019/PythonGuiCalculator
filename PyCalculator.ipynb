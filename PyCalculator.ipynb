{
 "cells": [
  {
   "cell_type": "code",
   "execution_count": 6,
   "id": "45841674-7942-4ae4-8484-e99d71872e47",
   "metadata": {},
   "outputs": [
    {
     "name": "stdout",
     "output_type": "stream",
     "text": [
      "CPU times: total: 0 ns\n",
      "Wall time: 0 ns\n"
     ]
    }
   ],
   "source": [
    "%time\n",
    "import tkinter as tk"
   ]
  },
  {
   "cell_type": "code",
   "execution_count": 7,
   "id": "d647bb73-9f48-4ec8-be36-ee20bae39c2f",
   "metadata": {},
   "outputs": [],
   "source": [
    "def on_button_click(value):\n",
    "    entry.insert(tk.END, value)\n",
    "\n",
    "def clear_entry():\n",
    "    entry.delete(0, tk.END)"
   ]
  },
  {
   "cell_type": "code",
   "execution_count": 8,
   "id": "e5754cf8-322d-4889-b288-a22f04bacfe8",
   "metadata": {},
   "outputs": [],
   "source": [
    "def calculate():\n",
    "    try:\n",
    "        result = eval(entry.get())\n",
    "        entry.delete(0, tk.END)\n",
    "        entry.insert(tk.END, result)\n",
    "    except Exception as e:\n",
    "        entry.delete(0, tk.END)\n",
    "        entry.insert(tk.END, \"Error\")"
   ]
  },
  {
   "cell_type": "code",
   "execution_count": 9,
   "id": "954d157b-d770-4410-b721-e0a7825f81b1",
   "metadata": {},
   "outputs": [],
   "source": [
    "\n",
    "# Create a Tkinter window\n",
    "window = tk.Tk()\n",
    "window.title(\"Calculator\")\n",
    "window.geometry(\"400x450\")\n",
    "window.configure(bg=\"#f0f0f0\")\n",
    "\n",
    "# Create an entry widget\n",
    "entry = tk.Entry(window, width=30, borderwidth=3, font=(\"Arial\", 14))\n",
    "entry.grid(row=0, column=0, columnspan=4, padx=15, pady=15 )\n",
    "\n",
    "# Define buttons with text and color\n",
    "buttons =[('7', 'black'), ('8', 'black'), ('9', 'black'), ('/', '#ff6600'), \n",
    "          ('4', 'black'), ('5', 'black'), ('6', 'black'), ('*', '#ff6600'), \n",
    "          ('1', 'black'), ('2', 'black'), ('3', 'black'), ('-', '#ff6600'), \n",
    "          ('0', 'black'), ('.', 'black'), ('=', '#ff6600'), ('+', '#ff6600')\n",
    "         ]\n",
    "\n",
    "# Create and place buttons with styling\n",
    "row_index = 1\n",
    "col_index = 0\n",
    "for (text, color) in buttons:\n",
    "    button = tk.Button(window, text=text, padx=20, pady=15, bg=color, fg=\"#ffffff\", font=(\"Arial\", 14),\n",
    "                       command=lambda text=text: on_button_click(text))\n",
    "    button.grid(row=row_index, column=col_index, padx=5, pady=5)\n",
    "    col_index += 1\n",
    "    if col_index > 3:\n",
    "        col_index = 0\n",
    "        row_index += 1\n",
    "\n",
    "# Add Clear button\n",
    "clear_button = tk.Button(window, text=\"C\", padx=20, pady=15, bg=\"black\", fg=\"#ffffff\", font=(\"Arial\", 14),\n",
    "                         command=clear_entry)\n",
    "clear_button.grid(row=5, column=0, columnspan=2, padx=5, pady=5)\n",
    "\n",
    "# Add Calculate button\n",
    "calculate_button = tk.Button(window, text=\"Calculate\", padx=10, pady=15, bg=\"black\", fg=\"#ffffff\", font=(\"Arial\", 14),\n",
    "                             command=calculate)\n",
    "calculate_button.grid(row=5, column=2, columnspan=2, padx=5, pady=5)\n",
    "\n",
    "# Start the event loop\n",
    "window.mainloop()"
   ]
  }
 ],
 "metadata": {
  "kernelspec": {
   "display_name": "Python 3 (ipykernel)",
   "language": "python",
   "name": "python3"
  },
  "language_info": {
   "codemirror_mode": {
    "name": "ipython",
    "version": 3
   },
   "file_extension": ".py",
   "mimetype": "text/x-python",
   "name": "python",
   "nbconvert_exporter": "python",
   "pygments_lexer": "ipython3",
   "version": "3.11.5"
  }
 },
 "nbformat": 4,
 "nbformat_minor": 5
}
